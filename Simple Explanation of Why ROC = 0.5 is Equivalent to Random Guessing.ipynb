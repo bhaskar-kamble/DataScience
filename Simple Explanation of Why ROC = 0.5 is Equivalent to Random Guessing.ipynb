{
 "cells": [
  {
   "cell_type": "markdown",
   "id": "4d0df0ce",
   "metadata": {},
   "source": [
    "# A Simple Explanation of Why AUC = 1 is Equivalent to Random Guessing"
   ]
  },
  {
   "cell_type": "markdown",
   "id": "6cf5a1e9",
   "metadata": {},
   "source": [
    "In a binary classification problem, the outcome consists of only two possibilities, which we can call positive and negative, or A and B, or 0 and 1, etc. In the machne learning context, a classifier is trained on the training data to predict the outcome for a given set of features. The classifier predicts the probabilities for the outcome to be positive or negative. Based on a threshold, the predicted outcome is chosen to be positive or negative. For example, if the threshold is 0.65, and the classifier predicts 0.7 as the probability of a positive, then the predicted outcome is positive. But if it predicts 0.6, the predicted outcome is negative. Suppose we have a set of predictions  from a classifier for the probability of getting a positive. As the threshold is varied from 0 to 1, the predicted outcomes will also change and we get what is known as an AUC (Area Under Curve) or ROC curve.\n",
    "\n",
    "One often hears the comment that an AUC of 0.5 is as good as random guessing. Recall that the AUC or ROC refers to a curve obtained by plotting the True Positive Rate ($TPR$) against the False Positive Rate ($FPR$) as the threshold is varied from 0 to 1.\n",
    "\n",
    "Let me offer a simple explanation why this is true.\n",
    "\n",
    "But before diving in, it will be useful to present the notation and the basic definitions.\n",
    "\n",
    "\n",
    "# Basic Notation and Definitions\n",
    "\n",
    "The following definitions will be familiar: \n",
    "\n",
    "* A \"True Positive\" occurs if the classifier predicts positive and the outcome is also positive. \n",
    "* A \"False Positive\" occurs if the classifier predicts positive and the outcome is negative. \n",
    "* A \"True Negative\" occurs if the classifier predicts negative and the outcome is indeed negative. \n",
    "* A \"False Negative\" occurs if the classifier predicts negative and the outcome is positive. \n",
    "\n",
    "### Notation\n",
    "\n",
    "$TP=$ Number of True Positives\n",
    "\n",
    "$FP=$ Number of False Positives\n",
    "\n",
    "$TN=$ Number of True Negatives\n",
    "\n",
    "$FN=$ Number of False Negatives\n",
    "\n",
    "$TAP= TP+FN=$ Total Actual Positives\n",
    "\n",
    "$TAN= TN+FP=$ Total Actual Negatives\n",
    "\n",
    "$TPP=TP+FP=$ Total Predicted Positives\n",
    "\n",
    "$TPN=TN+FN=$ Total Predicted Negatives\n",
    "\n"
   ]
  },
  {
   "cell_type": "markdown",
   "id": "0965c427",
   "metadata": {},
   "source": [
    "### Precision\n",
    "\n",
    "This is defined as:\n",
    "\n",
    "$\\frac{TP}{TP+FP}=\\frac{TP}{TPP}$\n",
    "\n",
    "* Given that the algorithm has predicted a positive, what is the probability that the instance is indeed a positive. That is, $P({\\rm given{\\hspace 2mm}instance{\\hspace 2mm}is{\\hspace 2mm}positive} {\\hspace 2mm}|{\\hspace 2mm} {\\rm algorithm  {\\hspace 2mm} predicts{\\hspace 2mm}positive})$.\n",
    "\n",
    "\n",
    "### Sensitivity, Recall, True Positive Rate (TPR)\n",
    "\n",
    "The above are synonyms. This is given by:\n",
    "\n",
    "$\\frac{TP}{TP+FN}=\\frac{TP}{TAP}$\n",
    "\n",
    "* That is, out of all actual positives, how many were correctly identified?\n",
    "* **Equals 1 if the algorithm always predicts positive.**\n",
    "* Equals the conditional probability that the algorithm predicts positive given that the instance is positive, i.e. it equals $P({\\rm algorithm  {\\hspace 2mm} predicts{\\hspace 2mm}positive}{\\hspace 2mm}|{\\hspace 2mm}{\\rm given{\\hspace 2mm}instance{\\hspace 2mm}is{\\hspace 2mm}positive)}$. *It is in this sense the \"reverse\" of precision defined above.*\n",
    "* A high sensitivity finds out most of the positives.\n",
    "* Good for identifying terrorists. (That's the reason everyone is checked so thoroughly at airports.)\n",
    "\n",
    "\n",
    "\n",
    "### Specificity, True Negative Rate (TNR)\n",
    "\n",
    "The above are synonyms. Given by\n",
    "\n",
    "$\\frac{TN}{TN+FP}=\\frac{TN}{TAN}$\n",
    "\n",
    "* Out of all actual negatives, how many were correctly identified?\n",
    "* A high specificity finds out most of the negatives.\n",
    "* Equals the conditional probability that the algorithm predicts negative given that the instance is negative, i.e. it equals $P({\\rm algorithm  {\\hspace 2mm} predicts{\\hspace 2mm}negative}{\\hspace 2mm}|{\\hspace 2mm}{\\rm given{\\hspace 2mm}instance{\\hspace 2mm}is{\\hspace 2mm}negative)}$.\n",
    "\n",
    "### False Positive Rate (FPR)\n",
    "\n",
    "Given by $1-TNR = 1-{\\rm specificity}= 1-\\frac{TN}{TN+FP}=\\frac{FP}{TN+FP}=\\frac{FP}{TAN}$"
   ]
  },
  {
   "cell_type": "markdown",
   "id": "0892f6d6",
   "metadata": {},
   "source": [
    "# Why is $AUC=0.5$ for ROC-curve no better than random guessing?\n",
    "\n",
    "We can now come back to the question I mentioned at the beginning: why is $AUC=0.5$ equivalent to random guessing.\n",
    "\n",
    "* Let's say $n_+^A=$ number of actual positives (\"A\" for \"actual\"), i.e. $TAP$.\n",
    "* Out of these $n_+^A$ cases, let's say $\\rho_+ n_+^A$ have been correctly classified as positive.\n",
    "* Hence $TP=\\rho_+ n_+^A$.\n",
    "* The rest have been falsely classified as negatives, hence they are false negatives:  $FN = n_+^A - \\rho_+ n_+^A = (1-\\rho_+) n_+^A$.\n",
    "* Let's say the number of actual negatives, $TAN = n_-^A$.\n",
    "* Out of $n_-^A$, let's say $\\rho_- n_-^A$ have been correctly classified as negative. Hence $TN=\\rho_- n_-^A$.\n",
    "* The rest, i.e. $n_-^A - \\rho_- n_-^A=(1-\\rho_-) n_-^A$ are false positives, i.e., $FP = (1-\\rho_-) n_-^A$\n",
    "\n",
    "\n",
    "From the above it follows that:\n",
    "\n",
    "* $TPR = \\frac{TP}{TAP} = \\frac{\\rho_+ n_+^A}{n_+^A}=\\rho_+$\n",
    "* $FPR = \\frac{FP}{TAN} = \\frac{(1-\\rho_-) n_-^A}{n_-^A}=1-\\rho_-$\n",
    "\n",
    "**Now let us say that $TPR=FPR$, as we would happen when the ROC curve is a 45$^{\\rm o}$ straight line.**\n",
    "\n",
    "Under the assumption $TPR=FPR$, we get:\n",
    "\n",
    "$\\rho_+ = 1- \\rho_-$\n",
    "\n",
    "That is\n",
    "\n",
    "$\\rho_+ + \\rho_- = 1$\n",
    "\n",
    "Hence in this case we see that out of $n_+^A$ points (actual positives), $\\rho_+ n_+^A$ are classified as positive, and $\\rho_- n_+^A$ are classified as negative.\n",
    "\n",
    "And out of $n_-^A$ points (actual negatives), $\\rho_+ n_-^A$ are classified as positive, and $\\rho_- n_-^A$ are classified as negative.\n",
    "\n",
    "Hence regardless of the point (i.e. whether it is +ve or -ve), a fraction $\\rho_+$ are always predicted to be +ve and the remaining $1-\\rho_+$ (since $\\rho_- = 1-\\rho_+$) are always predicted to be negative.\n",
    "\n",
    "Hence probability of the classifier predicting +ve = $\\rho_+$ and probability of the classifier predicting -ve = $\\rho_-$.\n",
    "\n",
    "Conversely, it can be shown quite easily that for a random classifier, $TPR = FPR$."
   ]
  },
  {
   "cell_type": "markdown",
   "id": "d8e0629c",
   "metadata": {},
   "source": [
    "**Interestingly the precision remains constant for a random classifier no matter what the threshold is:**\n",
    "\n",
    "* $TPP = TP+FP = \\rho_+ n_+^A + (1-\\rho_-) n_-^A = \\rho_+ (n_+^A +  n_-^A)=\\rho_+ N$\n",
    "* $TP = \\rho_+ n_+^A$\n",
    "* $TAP = n_+^A$\n",
    "* Precision = $TP/TPP = (\\rho_+ n_+^A)/(\\rho_+ N) = n_+^A/N$\n",
    "* Recall = $TP/TAP = \\rho_+ n_+^A / n_+^A = \\rho_+$\n",
    "\n",
    "One can that the precision above is constant and is given by $n_+^A/N$."
   ]
  },
  {
   "cell_type": "markdown",
   "id": "da9f3acd",
   "metadata": {},
   "source": [
    "# A Practical Example\n",
    "\n",
    "Let's see this with a practical example. I'll use the diabetes dataset available at https://www.kaggle.com/datasets/mathchi/diabetes-data-set?select=diabetes.csv. I've already saved it in my machine as `diabetes.csv`. The `Outcome` tells if the person has diabetes or not, with 1 implying yes and 0 implying no. In the following I'll train a logistic regression model to predict if the person has diabetes and then use a random predictor to predict the same. At the end I will plot the AUC-ROC curves for both. We expect the curve for the random predictor to be a straight line and an AUC = 0.5. "
   ]
  },
  {
   "cell_type": "code",
   "execution_count": 36,
   "id": "1bcbdcbe",
   "metadata": {},
   "outputs": [],
   "source": [
    "import numpy as np\n",
    "import pandas as pd\n",
    "import matplotlib.pyplot as plt\n",
    "from sklearn.linear_model import LogisticRegression\n",
    "from sklearn.preprocessing import StandardScaler\n",
    "from sklearn.model_selection import train_test_split\n",
    "from sklearn.metrics import RocCurveDisplay, roc_auc_score"
   ]
  },
  {
   "cell_type": "markdown",
   "id": "a17e51fa",
   "metadata": {},
   "source": [
    "### Load the Data:"
   ]
  },
  {
   "cell_type": "code",
   "execution_count": 2,
   "id": "021e12e3",
   "metadata": {},
   "outputs": [],
   "source": [
    "# load the data\n",
    "df = pd.read_csv(\"./data/diabetes.csv\")"
   ]
  },
  {
   "cell_type": "code",
   "execution_count": 3,
   "id": "b3c2e1d4",
   "metadata": {},
   "outputs": [
    {
     "data": {
      "text/html": [
       "<div>\n",
       "<style scoped>\n",
       "    .dataframe tbody tr th:only-of-type {\n",
       "        vertical-align: middle;\n",
       "    }\n",
       "\n",
       "    .dataframe tbody tr th {\n",
       "        vertical-align: top;\n",
       "    }\n",
       "\n",
       "    .dataframe thead th {\n",
       "        text-align: right;\n",
       "    }\n",
       "</style>\n",
       "<table border=\"1\" class=\"dataframe\">\n",
       "  <thead>\n",
       "    <tr style=\"text-align: right;\">\n",
       "      <th></th>\n",
       "      <th>Pregnancies</th>\n",
       "      <th>Glucose</th>\n",
       "      <th>BloodPressure</th>\n",
       "      <th>SkinThickness</th>\n",
       "      <th>Insulin</th>\n",
       "      <th>BMI</th>\n",
       "      <th>DiabetesPedigreeFunction</th>\n",
       "      <th>Age</th>\n",
       "      <th>Outcome</th>\n",
       "    </tr>\n",
       "  </thead>\n",
       "  <tbody>\n",
       "    <tr>\n",
       "      <th>0</th>\n",
       "      <td>6</td>\n",
       "      <td>148</td>\n",
       "      <td>72</td>\n",
       "      <td>35</td>\n",
       "      <td>0</td>\n",
       "      <td>33.6</td>\n",
       "      <td>0.627</td>\n",
       "      <td>50</td>\n",
       "      <td>1</td>\n",
       "    </tr>\n",
       "    <tr>\n",
       "      <th>1</th>\n",
       "      <td>1</td>\n",
       "      <td>85</td>\n",
       "      <td>66</td>\n",
       "      <td>29</td>\n",
       "      <td>0</td>\n",
       "      <td>26.6</td>\n",
       "      <td>0.351</td>\n",
       "      <td>31</td>\n",
       "      <td>0</td>\n",
       "    </tr>\n",
       "    <tr>\n",
       "      <th>2</th>\n",
       "      <td>8</td>\n",
       "      <td>183</td>\n",
       "      <td>64</td>\n",
       "      <td>0</td>\n",
       "      <td>0</td>\n",
       "      <td>23.3</td>\n",
       "      <td>0.672</td>\n",
       "      <td>32</td>\n",
       "      <td>1</td>\n",
       "    </tr>\n",
       "    <tr>\n",
       "      <th>3</th>\n",
       "      <td>1</td>\n",
       "      <td>89</td>\n",
       "      <td>66</td>\n",
       "      <td>23</td>\n",
       "      <td>94</td>\n",
       "      <td>28.1</td>\n",
       "      <td>0.167</td>\n",
       "      <td>21</td>\n",
       "      <td>0</td>\n",
       "    </tr>\n",
       "    <tr>\n",
       "      <th>4</th>\n",
       "      <td>0</td>\n",
       "      <td>137</td>\n",
       "      <td>40</td>\n",
       "      <td>35</td>\n",
       "      <td>168</td>\n",
       "      <td>43.1</td>\n",
       "      <td>2.288</td>\n",
       "      <td>33</td>\n",
       "      <td>1</td>\n",
       "    </tr>\n",
       "  </tbody>\n",
       "</table>\n",
       "</div>"
      ],
      "text/plain": [
       "   Pregnancies  Glucose  BloodPressure  SkinThickness  Insulin   BMI  \\\n",
       "0            6      148             72             35        0  33.6   \n",
       "1            1       85             66             29        0  26.6   \n",
       "2            8      183             64              0        0  23.3   \n",
       "3            1       89             66             23       94  28.1   \n",
       "4            0      137             40             35      168  43.1   \n",
       "\n",
       "   DiabetesPedigreeFunction  Age  Outcome  \n",
       "0                     0.627   50        1  \n",
       "1                     0.351   31        0  \n",
       "2                     0.672   32        1  \n",
       "3                     0.167   21        0  \n",
       "4                     2.288   33        1  "
      ]
     },
     "execution_count": 3,
     "metadata": {},
     "output_type": "execute_result"
    }
   ],
   "source": [
    "df.head()"
   ]
  },
  {
   "cell_type": "code",
   "execution_count": 4,
   "id": "b2887d37",
   "metadata": {},
   "outputs": [
    {
     "data": {
      "text/plain": [
       "Pregnancies                 0\n",
       "Glucose                     0\n",
       "BloodPressure               0\n",
       "SkinThickness               0\n",
       "Insulin                     0\n",
       "BMI                         0\n",
       "DiabetesPedigreeFunction    0\n",
       "Age                         0\n",
       "Outcome                     0\n",
       "dtype: int64"
      ]
     },
     "execution_count": 4,
     "metadata": {},
     "output_type": "execute_result"
    }
   ],
   "source": [
    "# check for missing values\n",
    "df.isna().sum()"
   ]
  },
  {
   "cell_type": "markdown",
   "id": "957c9e7c",
   "metadata": {},
   "source": [
    "### Create Training and Test Sets:"
   ]
  },
  {
   "cell_type": "code",
   "execution_count": 5,
   "id": "6b19cf70",
   "metadata": {},
   "outputs": [],
   "source": [
    "# create training and test sets \n",
    "# I'll use all the features except Pregnancies\n",
    "X = df.drop([\"Pregnancies\", \"Outcome\"], axis=1)\n",
    "y = df[\"Outcome\"]\n",
    "x_train, x_test, y_train, y_test = train_test_split(X, y, test_size = 0.25, random_state = 1)\n",
    "\n",
    "# center and scale the features\n",
    "scaler = StandardScaler()\n",
    "scaler.fit(x_train)\n",
    "x_train_scaled = scaler.transform(x_train)\n",
    "x_test_scaled = scaler.transform(x_test)"
   ]
  },
  {
   "cell_type": "markdown",
   "id": "8d4fc5a6",
   "metadata": {},
   "source": [
    "### Train a Logistic Regression Model:"
   ]
  },
  {
   "cell_type": "code",
   "execution_count": 7,
   "id": "6bd967d9",
   "metadata": {},
   "outputs": [
    {
     "data": {
      "text/html": [
       "<style>#sk-container-id-1 {color: black;background-color: white;}#sk-container-id-1 pre{padding: 0;}#sk-container-id-1 div.sk-toggleable {background-color: white;}#sk-container-id-1 label.sk-toggleable__label {cursor: pointer;display: block;width: 100%;margin-bottom: 0;padding: 0.3em;box-sizing: border-box;text-align: center;}#sk-container-id-1 label.sk-toggleable__label-arrow:before {content: \"▸\";float: left;margin-right: 0.25em;color: #696969;}#sk-container-id-1 label.sk-toggleable__label-arrow:hover:before {color: black;}#sk-container-id-1 div.sk-estimator:hover label.sk-toggleable__label-arrow:before {color: black;}#sk-container-id-1 div.sk-toggleable__content {max-height: 0;max-width: 0;overflow: hidden;text-align: left;background-color: #f0f8ff;}#sk-container-id-1 div.sk-toggleable__content pre {margin: 0.2em;color: black;border-radius: 0.25em;background-color: #f0f8ff;}#sk-container-id-1 input.sk-toggleable__control:checked~div.sk-toggleable__content {max-height: 200px;max-width: 100%;overflow: auto;}#sk-container-id-1 input.sk-toggleable__control:checked~label.sk-toggleable__label-arrow:before {content: \"▾\";}#sk-container-id-1 div.sk-estimator input.sk-toggleable__control:checked~label.sk-toggleable__label {background-color: #d4ebff;}#sk-container-id-1 div.sk-label input.sk-toggleable__control:checked~label.sk-toggleable__label {background-color: #d4ebff;}#sk-container-id-1 input.sk-hidden--visually {border: 0;clip: rect(1px 1px 1px 1px);clip: rect(1px, 1px, 1px, 1px);height: 1px;margin: -1px;overflow: hidden;padding: 0;position: absolute;width: 1px;}#sk-container-id-1 div.sk-estimator {font-family: monospace;background-color: #f0f8ff;border: 1px dotted black;border-radius: 0.25em;box-sizing: border-box;margin-bottom: 0.5em;}#sk-container-id-1 div.sk-estimator:hover {background-color: #d4ebff;}#sk-container-id-1 div.sk-parallel-item::after {content: \"\";width: 100%;border-bottom: 1px solid gray;flex-grow: 1;}#sk-container-id-1 div.sk-label:hover label.sk-toggleable__label {background-color: #d4ebff;}#sk-container-id-1 div.sk-serial::before {content: \"\";position: absolute;border-left: 1px solid gray;box-sizing: border-box;top: 0;bottom: 0;left: 50%;z-index: 0;}#sk-container-id-1 div.sk-serial {display: flex;flex-direction: column;align-items: center;background-color: white;padding-right: 0.2em;padding-left: 0.2em;position: relative;}#sk-container-id-1 div.sk-item {position: relative;z-index: 1;}#sk-container-id-1 div.sk-parallel {display: flex;align-items: stretch;justify-content: center;background-color: white;position: relative;}#sk-container-id-1 div.sk-item::before, #sk-container-id-1 div.sk-parallel-item::before {content: \"\";position: absolute;border-left: 1px solid gray;box-sizing: border-box;top: 0;bottom: 0;left: 50%;z-index: -1;}#sk-container-id-1 div.sk-parallel-item {display: flex;flex-direction: column;z-index: 1;position: relative;background-color: white;}#sk-container-id-1 div.sk-parallel-item:first-child::after {align-self: flex-end;width: 50%;}#sk-container-id-1 div.sk-parallel-item:last-child::after {align-self: flex-start;width: 50%;}#sk-container-id-1 div.sk-parallel-item:only-child::after {width: 0;}#sk-container-id-1 div.sk-dashed-wrapped {border: 1px dashed gray;margin: 0 0.4em 0.5em 0.4em;box-sizing: border-box;padding-bottom: 0.4em;background-color: white;}#sk-container-id-1 div.sk-label label {font-family: monospace;font-weight: bold;display: inline-block;line-height: 1.2em;}#sk-container-id-1 div.sk-label-container {text-align: center;}#sk-container-id-1 div.sk-container {/* jupyter's `normalize.less` sets `[hidden] { display: none; }` but bootstrap.min.css set `[hidden] { display: none !important; }` so we also need the `!important` here to be able to override the default hidden behavior on the sphinx rendered scikit-learn.org. See: https://github.com/scikit-learn/scikit-learn/issues/21755 */display: inline-block !important;position: relative;}#sk-container-id-1 div.sk-text-repr-fallback {display: none;}</style><div id=\"sk-container-id-1\" class=\"sk-top-container\"><div class=\"sk-text-repr-fallback\"><pre>LogisticRegression()</pre><b>In a Jupyter environment, please rerun this cell to show the HTML representation or trust the notebook. <br />On GitHub, the HTML representation is unable to render, please try loading this page with nbviewer.org.</b></div><div class=\"sk-container\" hidden><div class=\"sk-item\"><div class=\"sk-estimator sk-toggleable\"><input class=\"sk-toggleable__control sk-hidden--visually\" id=\"sk-estimator-id-1\" type=\"checkbox\" checked><label for=\"sk-estimator-id-1\" class=\"sk-toggleable__label sk-toggleable__label-arrow\">LogisticRegression</label><div class=\"sk-toggleable__content\"><pre>LogisticRegression()</pre></div></div></div></div></div>"
      ],
      "text/plain": [
       "LogisticRegression()"
      ]
     },
     "execution_count": 7,
     "metadata": {},
     "output_type": "execute_result"
    }
   ],
   "source": [
    "# train a logistic regression model:\n",
    "logreg = LogisticRegression()\n",
    "logreg.fit(x_train_scaled, y_train)"
   ]
  },
  {
   "cell_type": "markdown",
   "id": "247b4e38",
   "metadata": {},
   "source": [
    "### Predict on the Test Set Using the Model Just Trained:"
   ]
  },
  {
   "cell_type": "code",
   "execution_count": 8,
   "id": "f68ff704",
   "metadata": {},
   "outputs": [],
   "source": [
    "# predict on the test data\n",
    "# be sure to use predict_proba() instead of predict(), as the latter gives only 0 or 1.\n",
    "ypred_logreg = logreg.predict_proba(x_test_scaled)\n",
    "ypred_logreg = ypred_logreg[:,1]"
   ]
  },
  {
   "cell_type": "markdown",
   "id": "200d3ca7",
   "metadata": {},
   "source": [
    "### Predict on the Test Set using random guessing:"
   ]
  },
  {
   "cell_type": "code",
   "execution_count": 34,
   "id": "713d7769",
   "metadata": {},
   "outputs": [],
   "source": [
    "# predict randomly:\n",
    "ypred_random = np.random.random_sample(size=ypred_logreg.shape[0])"
   ]
  },
  {
   "cell_type": "markdown",
   "id": "ebae5529",
   "metadata": {},
   "source": [
    "### Get the AUC-ROC Scores and Plot the AUC-ROC Curve:"
   ]
  },
  {
   "cell_type": "code",
   "execution_count": 43,
   "id": "482fc029",
   "metadata": {},
   "outputs": [
    {
     "name": "stdout",
     "output_type": "stream",
     "text": [
      "AUC score for logistic regression: 0.84\n",
      "AUC score for random guessing: 0.47\n"
     ]
    }
   ],
   "source": [
    "auc_logreg = roc_auc_score(y_test, ypred_logreg)\n",
    "auc_random = roc_auc_score(y_test, ypred_random)\n",
    "print(\"AUC score for logistic regression: {}\".format(round(auc_logreg, 2)))\n",
    "print(\"AUC score for random guessing: {}\".format(round(auc_random, 2)))"
   ]
  },
  {
   "cell_type": "markdown",
   "id": "d1aa34a3",
   "metadata": {},
   "source": [
    "The above shows that for logistic regression the AUC score is 0.84 (the closer it is to one, the better the model is) and the AUC score with random guessing is close to 0.5, as we would expect. Let us now plot the corresponding curves."
   ]
  },
  {
   "cell_type": "code",
   "execution_count": 52,
   "id": "87c70b77",
   "metadata": {},
   "outputs": [
    {
     "data": {
      "image/png": "[encoded data removed]",
      "text/plain": [
       "<Figure size 640x480 with 1 Axes>"
      ]
     },
     "metadata": {},
     "output_type": "display_data"
    }
   ],
   "source": [
    "fig,ax=plt.subplots()\n",
    "ax.set_aspect(\"equal\")\n",
    "RocCurveDisplay.from_predictions(y_test, ypred_logreg, color=\"blue\", marker=\"o\", ax=ax)\n",
    "RocCurveDisplay.from_predictions(y_test, ypred_random, color=\"red\", marker=\"o\", ax=ax)\n",
    "ax.plot([0,1], [0,1], alpha=0.5, color=\"black\", linestyle=\":\")\n",
    "ax.legend([\"Logistic Regression (AUC = {})\".format(round(auc_logreg, 2)), \n",
    "           \"Random Classifier (AUC = {})\".format(round(auc_random, 2))])\n",
    "ax.grid(True);"
   ]
  },
  {
   "cell_type": "markdown",
   "id": "4a6a3408",
   "metadata": {},
   "source": [
    "Thus as expected the ROC curve with random guessing is close to the 45$^{\\rm o}$straight line, as we would expect with an AUC close to 0.5."
   ]
  },
  {
   "cell_type": "code",
   "execution_count": null,
   "id": "3c684bf5",
   "metadata": {},
   "outputs": [],
   "source": []
  }
 ],
 "metadata": {
  "kernelspec": {
   "display_name": "Python 3 (ipykernel)",
   "language": "python",
   "name": "python3"
  },
  "language_info": {
   "codemirror_mode": {
    "name": "ipython",
    "version": 3
   },
   "file_extension": ".py",
   "mimetype": "text/x-python",
   "name": "python",
   "nbconvert_exporter": "python",
   "pygments_lexer": "ipython3",
   "version": "3.8.0"
  }
 },
 "nbformat": 4,
 "nbformat_minor": 5
}
